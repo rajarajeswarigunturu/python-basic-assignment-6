{
 "cells": [
  {
   "cell_type": "code",
   "execution_count": null,
   "id": "3ed53c72",
   "metadata": {},
   "outputs": [],
   "source": [
    "#1. What are escape characters, and how do you use them?"
   ]
  },
  {
   "cell_type": "code",
   "execution_count": 1,
   "id": "a7023988",
   "metadata": {},
   "outputs": [],
   "source": [
    "# Ans. To insert characters that are illegal in a string, use an escape \n",
    "#      character.\n",
    "\n",
    "#     An escape character is a backslash \\ followed by the character\n",
    "#     you want to insert.\n",
    "\n",
    "#     An example of an illegal character is a double quote inside a \n",
    "#     string that is surrounded by double quotes:"
   ]
  },
  {
   "cell_type": "code",
   "execution_count": 2,
   "id": "2d7c903d",
   "metadata": {},
   "outputs": [],
   "source": [
    "# Example:"
   ]
  },
  {
   "cell_type": "code",
   "execution_count": 3,
   "id": "4bed0c5c",
   "metadata": {},
   "outputs": [
    {
     "ename": "SyntaxError",
     "evalue": "invalid syntax (Temp/ipykernel_32424/303213656.py, line 1)",
     "output_type": "error",
     "traceback": [
      "\u001b[1;36m  File \u001b[1;32m\"C:\\Users\\91903\\AppData\\Local\\Temp/ipykernel_32424/303213656.py\"\u001b[1;36m, line \u001b[1;32m1\u001b[0m\n\u001b[1;33m    a = \" thorny plants are called \"shrubs\" \"\u001b[0m\n\u001b[1;37m                                    ^\u001b[0m\n\u001b[1;31mSyntaxError\u001b[0m\u001b[1;31m:\u001b[0m invalid syntax\n"
     ]
    }
   ],
   "source": [
    "a = \" thorny plants are called \"shrubs\" \""
   ]
  },
  {
   "cell_type": "code",
   "execution_count": 5,
   "id": "a78c1a37",
   "metadata": {},
   "outputs": [],
   "source": [
    "a = \" thorny plants are called \\\"shrubs\\\" \""
   ]
  },
  {
   "cell_type": "code",
   "execution_count": 6,
   "id": "da24f9af",
   "metadata": {},
   "outputs": [
    {
     "data": {
      "text/plain": [
       "' thorny plants are called \"shrubs\" '"
      ]
     },
     "execution_count": 6,
     "metadata": {},
     "output_type": "execute_result"
    }
   ],
   "source": [
    "a"
   ]
  },
  {
   "cell_type": "code",
   "execution_count": null,
   "id": "e57325b6",
   "metadata": {},
   "outputs": [],
   "source": [
    "#Code          Result\n",
    "\n",
    "# \\'           Single Quote\n",
    "#\\\\           Backslash\n",
    "#\\n           New Line\n",
    "#\\r           Carriage Return\n",
    "#\\t           Tab\n",
    "#\\b           Backspace\n",
    "#\\f           Form Feed\n",
    "#\\ooo         Octal value\n",
    "#\\xhh         Hex value"
   ]
  },
  {
   "cell_type": "code",
   "execution_count": 7,
   "id": "41fc3c09",
   "metadata": {},
   "outputs": [],
   "source": [
    "#2. What do the escape characters n and t stand for?"
   ]
  },
  {
   "cell_type": "code",
   "execution_count": 8,
   "id": "623a5b9f",
   "metadata": {},
   "outputs": [],
   "source": [
    "# Ans. n stands for newline and t stands for tab"
   ]
  },
  {
   "cell_type": "code",
   "execution_count": 9,
   "id": "d7bce315",
   "metadata": {},
   "outputs": [],
   "source": [
    "#3. What is the way to include backslash characters in a string?"
   ]
  },
  {
   "cell_type": "code",
   "execution_count": 10,
   "id": "d1009a9e",
   "metadata": {},
   "outputs": [],
   "source": [
    "# Ans.\n",
    "s = \"raji\\manasa\""
   ]
  },
  {
   "cell_type": "code",
   "execution_count": 11,
   "id": "3bf07ed6",
   "metadata": {},
   "outputs": [
    {
     "data": {
      "text/plain": [
       "'raji\\\\manasa'"
      ]
     },
     "execution_count": 11,
     "metadata": {},
     "output_type": "execute_result"
    }
   ],
   "source": [
    "s"
   ]
  },
  {
   "cell_type": "code",
   "execution_count": 12,
   "id": "c6bc4208",
   "metadata": {},
   "outputs": [],
   "source": [
    "a = \"raji\\\\manasa\""
   ]
  },
  {
   "cell_type": "code",
   "execution_count": 13,
   "id": "0a256b73",
   "metadata": {},
   "outputs": [
    {
     "data": {
      "text/plain": [
       "'raji\\\\manasa'"
      ]
     },
     "execution_count": 13,
     "metadata": {},
     "output_type": "execute_result"
    }
   ],
   "source": [
    "a"
   ]
  },
  {
   "cell_type": "code",
   "execution_count": 14,
   "id": "95db6394",
   "metadata": {},
   "outputs": [],
   "source": [
    "b = \"this\\\\is\\\\my\\\\first\\\\code\""
   ]
  },
  {
   "cell_type": "code",
   "execution_count": 15,
   "id": "2e499849",
   "metadata": {},
   "outputs": [
    {
     "data": {
      "text/plain": [
       "'this\\\\is\\\\my\\\\first\\\\code'"
      ]
     },
     "execution_count": 15,
     "metadata": {},
     "output_type": "execute_result"
    }
   ],
   "source": [
    "b"
   ]
  },
  {
   "cell_type": "code",
   "execution_count": 16,
   "id": "9615ee09",
   "metadata": {},
   "outputs": [
    {
     "name": "stdout",
     "output_type": "stream",
     "text": [
      "\\\n"
     ]
    }
   ],
   "source": [
    "print(\"\\\\\")"
   ]
  },
  {
   "cell_type": "code",
   "execution_count": 18,
   "id": "c8b37781",
   "metadata": {},
   "outputs": [],
   "source": [
    "#4. The string \"Howl's Moving Castle\" is a correct value.\n",
    "# Why isn't the single quote character in the word Howl's not escaped a\n",
    "# problem?"
   ]
  },
  {
   "cell_type": "code",
   "execution_count": 19,
   "id": "7a2a2f95",
   "metadata": {},
   "outputs": [],
   "source": [
    "#Ans. It is a valid string. Because we have used double quotes in the\n",
    "# beginning and at the end of the string.\n",
    "a = \"howl's moving castle\""
   ]
  },
  {
   "cell_type": "code",
   "execution_count": 20,
   "id": "62f19a85",
   "metadata": {},
   "outputs": [
    {
     "data": {
      "text/plain": [
       "\"howl's moving castle\""
      ]
     },
     "execution_count": 20,
     "metadata": {},
     "output_type": "execute_result"
    }
   ],
   "source": [
    "a"
   ]
  },
  {
   "cell_type": "code",
   "execution_count": 21,
   "id": "28421968",
   "metadata": {},
   "outputs": [],
   "source": [
    "#5. How do you write a string of newlines if you don't want to use \n",
    "# the n character?"
   ]
  },
  {
   "cell_type": "code",
   "execution_count": 26,
   "id": "6eb33856",
   "metadata": {},
   "outputs": [
    {
     "name": "stdout",
     "output_type": "stream",
     "text": [
      "rajeswari is elder\n",
      "manasa is younger\n",
      "rama is mother\n",
      "dinesh is father\n"
     ]
    }
   ],
   "source": [
    "#Ans. by using triple quotes.\n",
    "print(\"\"\"rajeswari is elder\n",
    "manasa is younger\n",
    "rama is mother\n",
    "dinesh is father\"\"\")"
   ]
  },
  {
   "cell_type": "code",
   "execution_count": 27,
   "id": "85566b68",
   "metadata": {},
   "outputs": [],
   "source": [
    "#6. What are the values of the given expressions?\n",
    "#'Hello, world!'[1]\n",
    "#'Hello, world!'[0:5]\n",
    "#'Hello, world!'[:5]\n",
    "#'Hello, world!'[3:]\n"
   ]
  },
  {
   "cell_type": "code",
   "execution_count": 28,
   "id": "c0b58fe7",
   "metadata": {},
   "outputs": [
    {
     "data": {
      "text/plain": [
       "'e'"
      ]
     },
     "execution_count": 28,
     "metadata": {},
     "output_type": "execute_result"
    }
   ],
   "source": [
    "'Hello,world!'[1]"
   ]
  },
  {
   "cell_type": "code",
   "execution_count": 29,
   "id": "54da8ec3",
   "metadata": {},
   "outputs": [
    {
     "data": {
      "text/plain": [
       "'Hello'"
      ]
     },
     "execution_count": 29,
     "metadata": {},
     "output_type": "execute_result"
    }
   ],
   "source": [
    "'Hello,world!'[0:5]"
   ]
  },
  {
   "cell_type": "code",
   "execution_count": 30,
   "id": "2213770a",
   "metadata": {},
   "outputs": [
    {
     "data": {
      "text/plain": [
       "'Hello'"
      ]
     },
     "execution_count": 30,
     "metadata": {},
     "output_type": "execute_result"
    }
   ],
   "source": [
    "'Hello,world!'[:5]"
   ]
  },
  {
   "cell_type": "code",
   "execution_count": 31,
   "id": "12cd4b00",
   "metadata": {},
   "outputs": [
    {
     "data": {
      "text/plain": [
       "'lo,world!'"
      ]
     },
     "execution_count": 31,
     "metadata": {},
     "output_type": "execute_result"
    }
   ],
   "source": [
    "'Hello,world!'[3:]"
   ]
  },
  {
   "cell_type": "code",
   "execution_count": 32,
   "id": "b046bf49",
   "metadata": {},
   "outputs": [],
   "source": [
    "#7. What are the values of the following expressions?\n",
    "#'Hello'.upper()\n",
    "#'Hello'.upper().isupper()\n",
    "#'Hello'.upper().lower()"
   ]
  },
  {
   "cell_type": "code",
   "execution_count": 33,
   "id": "93bdb92e",
   "metadata": {},
   "outputs": [
    {
     "data": {
      "text/plain": [
       "'HELLO'"
      ]
     },
     "execution_count": 33,
     "metadata": {},
     "output_type": "execute_result"
    }
   ],
   "source": [
    "#Ans.\n",
    "'Hello'.upper()"
   ]
  },
  {
   "cell_type": "code",
   "execution_count": 34,
   "id": "6a3e3214",
   "metadata": {},
   "outputs": [
    {
     "data": {
      "text/plain": [
       "True"
      ]
     },
     "execution_count": 34,
     "metadata": {},
     "output_type": "execute_result"
    }
   ],
   "source": [
    "'Hello'.upper().isupper()"
   ]
  },
  {
   "cell_type": "code",
   "execution_count": 35,
   "id": "9f890c4d",
   "metadata": {},
   "outputs": [
    {
     "data": {
      "text/plain": [
       "'hello'"
      ]
     },
     "execution_count": 35,
     "metadata": {},
     "output_type": "execute_result"
    }
   ],
   "source": [
    "'Hello'.upper().lower()"
   ]
  },
  {
   "cell_type": "code",
   "execution_count": 36,
   "id": "c09f41b7",
   "metadata": {},
   "outputs": [],
   "source": [
    "#8. What are the values of the following expressions?\n",
    "#'Remember, remember, the fifth of July.'.split()\n",
    "#'-'.join('There can only one.'.split())"
   ]
  },
  {
   "cell_type": "code",
   "execution_count": 37,
   "id": "bed877d6",
   "metadata": {},
   "outputs": [
    {
     "data": {
      "text/plain": [
       "['Remember,', 'remember,', 'the', 'fifth', 'of', 'July.']"
      ]
     },
     "execution_count": 37,
     "metadata": {},
     "output_type": "execute_result"
    }
   ],
   "source": [
    "#Ans.\n",
    "'Remember, remember, the fifth of July.'.split()"
   ]
  },
  {
   "cell_type": "code",
   "execution_count": 38,
   "id": "1471fbf5",
   "metadata": {},
   "outputs": [
    {
     "data": {
      "text/plain": [
       "'There-can-only-one.'"
      ]
     },
     "execution_count": 38,
     "metadata": {},
     "output_type": "execute_result"
    }
   ],
   "source": [
    "'-'.join('There can only one.'.split())"
   ]
  },
  {
   "cell_type": "code",
   "execution_count": 39,
   "id": "daaea3c1",
   "metadata": {},
   "outputs": [],
   "source": [
    "#9. What are the methods for right-justifying, left-justifying, \n",
    "# and centering a string?"
   ]
  },
  {
   "cell_type": "code",
   "execution_count": 10,
   "id": "cc4c962a",
   "metadata": {},
   "outputs": [],
   "source": [
    "#Ans.\n",
    "a = \"karthikeya\""
   ]
  },
  {
   "cell_type": "code",
   "execution_count": 11,
   "id": "ecd86ec5",
   "metadata": {},
   "outputs": [
    {
     "data": {
      "text/plain": [
       "'karthikeya'"
      ]
     },
     "execution_count": 11,
     "metadata": {},
     "output_type": "execute_result"
    }
   ],
   "source": [
    "a"
   ]
  },
  {
   "cell_type": "code",
   "execution_count": 13,
   "id": "5a56843d",
   "metadata": {},
   "outputs": [
    {
     "data": {
      "text/plain": [
       "'karthikeya**********'"
      ]
     },
     "execution_count": 13,
     "metadata": {},
     "output_type": "execute_result"
    }
   ],
   "source": [
    "a.ljust(20,'*')"
   ]
  },
  {
   "cell_type": "code",
   "execution_count": 14,
   "id": "38253c6c",
   "metadata": {},
   "outputs": [
    {
     "data": {
      "text/plain": [
       "'**********karthikeya'"
      ]
     },
     "execution_count": 14,
     "metadata": {},
     "output_type": "execute_result"
    }
   ],
   "source": [
    "a.rjust(20,'*')"
   ]
  },
  {
   "cell_type": "code",
   "execution_count": 15,
   "id": "875fd212",
   "metadata": {},
   "outputs": [
    {
     "data": {
      "text/plain": [
       "'*****karthikeya*****'"
      ]
     },
     "execution_count": 15,
     "metadata": {},
     "output_type": "execute_result"
    }
   ],
   "source": [
    "a.center(20,\"*\")"
   ]
  },
  {
   "cell_type": "code",
   "execution_count": 16,
   "id": "91a1003b",
   "metadata": {},
   "outputs": [],
   "source": [
    "#10. What is the best way to remove whitespace characters from \n",
    "# the start or end?"
   ]
  },
  {
   "cell_type": "code",
   "execution_count": 17,
   "id": "8173ebba",
   "metadata": {},
   "outputs": [],
   "source": [
    "#Ans.We have to use lstrip and rstrip to remove whitespaces from start\n",
    "# and end points of given string.\n",
    "a = \"   rudra\""
   ]
  },
  {
   "cell_type": "code",
   "execution_count": 18,
   "id": "accf2a91",
   "metadata": {},
   "outputs": [
    {
     "data": {
      "text/plain": [
       "'rudra'"
      ]
     },
     "execution_count": 18,
     "metadata": {},
     "output_type": "execute_result"
    }
   ],
   "source": [
    "a.lstrip()"
   ]
  },
  {
   "cell_type": "code",
   "execution_count": 19,
   "id": "810d86c2",
   "metadata": {},
   "outputs": [],
   "source": [
    "b = \"mrunal    \""
   ]
  },
  {
   "cell_type": "code",
   "execution_count": 21,
   "id": "de7acf64",
   "metadata": {},
   "outputs": [
    {
     "data": {
      "text/plain": [
       "'mrunal'"
      ]
     },
     "execution_count": 21,
     "metadata": {},
     "output_type": "execute_result"
    }
   ],
   "source": [
    "b.rstrip()"
   ]
  },
  {
   "cell_type": "code",
   "execution_count": null,
   "id": "216766b5",
   "metadata": {},
   "outputs": [],
   "source": []
  }
 ],
 "metadata": {
  "kernelspec": {
   "display_name": "Python 3 (ipykernel)",
   "language": "python",
   "name": "python3"
  },
  "language_info": {
   "codemirror_mode": {
    "name": "ipython",
    "version": 3
   },
   "file_extension": ".py",
   "mimetype": "text/x-python",
   "name": "python",
   "nbconvert_exporter": "python",
   "pygments_lexer": "ipython3",
   "version": "3.9.7"
  }
 },
 "nbformat": 4,
 "nbformat_minor": 5
}
